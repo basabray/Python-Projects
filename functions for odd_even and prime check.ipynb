{
 "cells": [
  {
   "cell_type": "code",
   "execution_count": null,
   "id": "054493da",
   "metadata": {},
   "outputs": [],
   "source": [
    "# Check if the gievn number is odd or even\n",
    "def check_odd_even(n):\n",
    "    if n%2==0:\n",
    "        return 'EVEN'\n",
    "    else:\n",
    "        return 'ODD'\n",
    "    \n",
    "# Check if the given number is prime or not\n",
    "def check_prime(n):\n",
    "    for i in range(2,n):\n",
    "        if n%i==0:\n",
    "            return 'Not Prime'\n",
    "    else:\n",
    "        return 'Prime'\n",
    "\n",
    "\n",
    "if __name__ == '__main__':\n",
    "    n = 21\n",
    "    result1 = check_odd_even(n)\n",
    "    result2 = check_prime(n)\n",
    "    print(result1,result2)"
   ]
  }
 ],
 "metadata": {
  "kernelspec": {
   "display_name": "Python 3 (ipykernel)",
   "language": "python",
   "name": "python3"
  },
  "language_info": {
   "codemirror_mode": {
    "name": "ipython",
    "version": 3
   },
   "file_extension": ".py",
   "mimetype": "text/x-python",
   "name": "python",
   "nbconvert_exporter": "python",
   "pygments_lexer": "ipython3",
   "version": "3.9.12"
  }
 },
 "nbformat": 4,
 "nbformat_minor": 5
}
